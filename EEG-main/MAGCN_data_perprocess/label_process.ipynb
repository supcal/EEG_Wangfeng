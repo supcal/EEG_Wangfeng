{
 "cells": [
  {
   "cell_type": "code",
   "execution_count": 4,
   "metadata": {},
   "outputs": [],
   "source": [
    "import torch\n",
    "import os"
   ]
  },
  {
   "cell_type": "code",
   "execution_count": 5,
   "metadata": {},
   "outputs": [
    {
     "name": "stdout",
     "output_type": "stream",
     "text": [
      "torch.Size([15, 3, 15])\n",
      "torch.Size([15, 3, 15, 2])\n",
      "torch.Size([15, 3, 15])\n",
      "torch.Size([15, 3, 15, 2])\n",
      "torch.Size([15, 3, 15])\n",
      "torch.Size([15, 3, 15, 2])\n",
      "torch.Size([15, 3, 15])\n",
      "torch.Size([15, 3, 15, 2])\n",
      "torch.Size([15, 3, 15])\n",
      "torch.Size([15, 3, 15, 2])\n"
     ]
    }
   ],
   "source": [
    "\n",
    "features=[\"de\",\"psd\",\"dasm\",\"rasm\",\"dcau\"]\n",
    "for feature in features:\n",
    "    seed_lable_dir = f\"/home/wf/EEG_GTN/data/dataset/Processed_Dataset/seed/zero/{feature}/label.pt\"\n",
    "\n",
    "    seed_lable = torch.load(seed_lable_dir)\n",
    "    print(seed_lable.shape)\n",
    "    label = torch.zeros((15, 3, 15,2))\n",
    "    for subject in range(15):\n",
    "        for session in range(3):\n",
    "            for exp in range(15):\n",
    "                label[subject, session, exp, 0] = seed_lable[subject, session, exp]\n",
    "                label[subject, session, exp, 1] = subject\n",
    "\n",
    "    print(label.shape)\n",
    "    save_dir = f\"/home/wf/EEG_GTN/data/dataset/Processed_Dataset/seed/zero_with_adj/{feature}\"\n",
    "    if not os.path.exists(save_dir):\n",
    "        os.makedirs(save_dir)\n",
    "    torch.save(label, f\"/home/wf/EEG_GTN/data/dataset/Processed_Dataset/seed/zero_with_adj/{feature}/label.pt\")\n"
   ]
  }
 ],
 "metadata": {
  "kernelspec": {
   "display_name": "torch",
   "language": "python",
   "name": "python3"
  },
  "language_info": {
   "codemirror_mode": {
    "name": "ipython",
    "version": 3
   },
   "file_extension": ".py",
   "mimetype": "text/x-python",
   "name": "python",
   "nbconvert_exporter": "python",
   "pygments_lexer": "ipython3",
   "version": "3.8.18"
  }
 },
 "nbformat": 4,
 "nbformat_minor": 2
}
