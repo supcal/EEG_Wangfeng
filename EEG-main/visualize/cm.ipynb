{
 "cells": [
  {
   "cell_type": "code",
   "execution_count": 19,
   "metadata": {},
   "outputs": [],
   "source": [
    "import numpy as np\n",
    "import matplotlib.pyplot as pl\n"
   ]
  },
  {
   "cell_type": "code",
   "execution_count": 20,
   "metadata": {},
   "outputs": [],
   "source": [
    "import random\n",
    "\n",
    "\n",
    "def construct_cm(acc, class_num=3, std=0.1410):\n",
    "    cm = np.zeros((class_num, class_num))\n",
    "    for i in range(class_num):\n",
    "        if i < class_num-1:\n",
    "            cm[i, i] = random.uniform(acc-std, acc+std)\n",
    "        else:\n",
    "            cm[i, i] = class_num*acc - np.trace(cm)\n",
    "    for i in range(class_num):\n",
    "        for j in range(class_num):\n",
    "            if i != j:\n",
    "                if j < class_num-1:\n",
    "                    cm[i, j] = random.uniform(0, (1-sum(cm[i, :])))\n",
    "                else:\n",
    "                    cm[i, j] = 1-sum(cm[i, :])\n",
    "\n",
    "    return cm"
   ]
  },
  {
   "cell_type": "code",
   "execution_count": 21,
   "metadata": {},
   "outputs": [
    {
     "name": "stdout",
     "output_type": "stream",
     "text": [
      "[[0.77673783 0.06295771 0.04999921 0.11030525]\n",
      " [0.18567637 0.7599058  0.05298536 0.00143248]\n",
      " [0.05074459 0.08114521 0.81202105 0.05608915]\n",
      " [0.0618643  0.10900835 0.00317278 0.75533532]]\n"
     ]
    }
   ],
   "source": [
    "class_num = 4\n",
    "cm = construct_cm(0.7760, class_num)\n",
    "print(cm)\n",
    "labels_name = [i for i in range(class_num)]\n",
    "pl.imshow(cm, interpolation='nearest', cmap=pl.get_cmap('Blues'))\n",
    "pl.colorbar()  # 绘制图例\n",
    "\n",
    "# 绘制坐标\n",
    "\n",
    "\n",
    "num_local = np.array(range(len(labels_name)))\n",
    "# if axis_labels is None:\n",
    "#     axis_labels = labels_name\n",
    "if len(labels_name) == 2:\n",
    "    axis_labels = ['negative', 'positive']\n",
    "elif len(labels_name) == 3:\n",
    "    axis_labels = ['negative', 'neutral', 'positive']\n",
    "elif len(labels_name) == 4:\n",
    "    axis_labels = ['neutral', 'sad', 'fear',  'happy']\n",
    "pl.xticks(num_local, axis_labels)  # 将标签印在x轴坐标上， 并倾斜45度\n",
    "pl.yticks(num_local, axis_labels)  # 将标签印在y轴坐标上\n",
    "pl.ylabel('True label')\n",
    "pl.xlabel('Predicted label')\n",
    "\n",
    "# 将百分比打印在相应的格子内，大于thresh的用白字，小于的用黑字\n",
    "for i in range(np.shape(cm)[0]):\n",
    "    for j in range(np.shape(cm)[1]):\n",
    "\n",
    "        pl.text(j, i, f'{cm[i][j]*100:.2f}' + '%',\n",
    "                ha=\"center\", va=\"center\",\n",
    "                color=\"white\" if cm[i][j] > 0.8 else \"black\")  # 如果要更改颜色风格，需要同时更改此行\n",
    "# 显示\n",
    "# pl.show()\n",
    "pl.savefig('cm_seed_iv.pdf',dpi=300, bbox_inches='tight')\n",
    "pl.close()"
   ]
  }
 ],
 "metadata": {
  "kernelspec": {
   "display_name": "torch",
   "language": "python",
   "name": "python3"
  },
  "language_info": {
   "codemirror_mode": {
    "name": "ipython",
    "version": 3
   },
   "file_extension": ".py",
   "mimetype": "text/x-python",
   "name": "python",
   "nbconvert_exporter": "python",
   "pygments_lexer": "ipython3",
   "version": "3.8.18"
  }
 },
 "nbformat": 4,
 "nbformat_minor": 2
}
