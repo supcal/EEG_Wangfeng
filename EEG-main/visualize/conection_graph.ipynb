{
 "cells": [
  {
   "cell_type": "code",
   "execution_count": 3,
   "metadata": {},
   "outputs": [
    {
     "name": "stdout",
     "output_type": "stream",
     "text": [
      "[[0 0 0 ... 0 0 0]\n",
      " [0 0 0 ... 0 0 0]\n",
      " [0 0 0 ... 1 0 0]\n",
      " ...\n",
      " [0 0 0 ... 0 0 0]\n",
      " [0 0 0 ... 0 0 1]\n",
      " [0 0 0 ... 0 0 0]]\n"
     ]
    }
   ],
   "source": [
    "import numpy as np\n",
    "\n",
    "# Define the labels from the user's image\n",
    "labels = [\n",
    "    \"FP1\", \"FPZ\", \"FP2\", \"AF3\", \"AF4\", \"F7\", \"F5\", \"F3\", \"F1\", \"FZ\", \"F2\", \"F4\",\n",
    "    \"F6\", \"F8\", \"FT7\", \"FC5\", \"FC3\", \"FC1\", \"FCZ\", \"FC2\", \"FC4\", \"FC6\", \"FT8\",\n",
    "    \"T7\", \"C5\", \"C3\", \"C1\", \"CZ\", \"C2\", \"C4\", \"C6\", \"T8\", \"TP7\", \"CP5\", \"CP3\",\n",
    "    \"CP1\", \"CPZ\", \"CP2\", \"CP4\", \"CP6\", \"TP8\", \"P7\", \"P5\", \"P3\", \"P1\", \"PZ\", \"P2\",\n",
    "    \"P4\", \"P6\", \"P8\", \"PO7\", \"PO5\", \"PO3\", \"POZ\", \"PO4\", \"PO6\", \"PO8\", \"CB1\",\n",
    "    \"O1\", \"OZ\", \"O2\", \"CB2\"\n",
    "]\n",
    "\n",
    "# The number of labels determines the size of the adjacency matrix\n",
    "n_labels = len(labels)\n",
    "\n",
    "# Create a random adjacency matrix\n",
    "# To make it more realistic, we can assume that the brain connectivity graph is sparse\n",
    "# Therefore, we will create a matrix with more zeros than ones\n",
    "# Using a probability of 0.1 for an edge to exist\n",
    "adjacency_matrix = np.random.choice(\n",
    "    [0, 1], size=(n_labels, n_labels), p=[0.9, 0.1])\n",
    "print(adjacency_matrix)"
   ]
  },
  {
   "cell_type": "markdown",
   "metadata": {},
   "source": []
  }
 ],
 "metadata": {
  "kernelspec": {
   "display_name": "torch",
   "language": "python",
   "name": "python3"
  },
  "language_info": {
   "codemirror_mode": {
    "name": "ipython",
    "version": 3
   },
   "file_extension": ".py",
   "mimetype": "text/x-python",
   "name": "python",
   "nbconvert_exporter": "python",
   "pygments_lexer": "ipython3",
   "version": "3.8.18"
  }
 },
 "nbformat": 4,
 "nbformat_minor": 2
}
